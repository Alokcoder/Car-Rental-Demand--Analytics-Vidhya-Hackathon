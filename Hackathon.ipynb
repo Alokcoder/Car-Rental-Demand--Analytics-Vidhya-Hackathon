{
 "cells": [
  {
   "cell_type": "code",
   "execution_count": 1,
   "id": "934dc45b",
   "metadata": {},
   "outputs": [],
   "source": [
    "import pandas as pd\n",
    "import numpy as np \n",
    "from sklearn.preprocessing import OneHotEncoder,LabelEncoder\n",
    "import seaborn as sns\n",
    "import matplotlib.pyplot as plt\n",
    "from sklearn.model_selection import train_test_split\n"
   ]
  },
  {
   "cell_type": "markdown",
   "id": "398f0edb",
   "metadata": {},
   "source": [
    "# Import the data"
   ]
  },
  {
   "cell_type": "code",
   "execution_count": 2,
   "id": "0a4b11e9",
   "metadata": {},
   "outputs": [
    {
     "data": {
      "text/html": [
       "<div>\n",
       "<style scoped>\n",
       "    .dataframe tbody tr th:only-of-type {\n",
       "        vertical-align: middle;\n",
       "    }\n",
       "\n",
       "    .dataframe tbody tr th {\n",
       "        vertical-align: top;\n",
       "    }\n",
       "\n",
       "    .dataframe thead th {\n",
       "        text-align: right;\n",
       "    }\n",
       "</style>\n",
       "<table border=\"1\" class=\"dataframe\">\n",
       "  <thead>\n",
       "    <tr style=\"text-align: right;\">\n",
       "      <th></th>\n",
       "      <th>date</th>\n",
       "      <th>hour</th>\n",
       "      <th>demand</th>\n",
       "    </tr>\n",
       "  </thead>\n",
       "  <tbody>\n",
       "    <tr>\n",
       "      <th>0</th>\n",
       "      <td>2018-08-18</td>\n",
       "      <td>9</td>\n",
       "      <td>91</td>\n",
       "    </tr>\n",
       "    <tr>\n",
       "      <th>1</th>\n",
       "      <td>2018-08-18</td>\n",
       "      <td>10</td>\n",
       "      <td>21</td>\n",
       "    </tr>\n",
       "    <tr>\n",
       "      <th>2</th>\n",
       "      <td>2018-08-18</td>\n",
       "      <td>13</td>\n",
       "      <td>23</td>\n",
       "    </tr>\n",
       "    <tr>\n",
       "      <th>3</th>\n",
       "      <td>2018-08-18</td>\n",
       "      <td>14</td>\n",
       "      <td>104</td>\n",
       "    </tr>\n",
       "    <tr>\n",
       "      <th>4</th>\n",
       "      <td>2018-08-18</td>\n",
       "      <td>15</td>\n",
       "      <td>81</td>\n",
       "    </tr>\n",
       "    <tr>\n",
       "      <th>...</th>\n",
       "      <td>...</td>\n",
       "      <td>...</td>\n",
       "      <td>...</td>\n",
       "    </tr>\n",
       "    <tr>\n",
       "      <th>18242</th>\n",
       "      <td>2021-02-28</td>\n",
       "      <td>19</td>\n",
       "      <td>95</td>\n",
       "    </tr>\n",
       "    <tr>\n",
       "      <th>18243</th>\n",
       "      <td>2021-02-28</td>\n",
       "      <td>20</td>\n",
       "      <td>88</td>\n",
       "    </tr>\n",
       "    <tr>\n",
       "      <th>18244</th>\n",
       "      <td>2021-02-28</td>\n",
       "      <td>21</td>\n",
       "      <td>39</td>\n",
       "    </tr>\n",
       "    <tr>\n",
       "      <th>18245</th>\n",
       "      <td>2021-02-28</td>\n",
       "      <td>22</td>\n",
       "      <td>104</td>\n",
       "    </tr>\n",
       "    <tr>\n",
       "      <th>18246</th>\n",
       "      <td>2021-02-28</td>\n",
       "      <td>23</td>\n",
       "      <td>85</td>\n",
       "    </tr>\n",
       "  </tbody>\n",
       "</table>\n",
       "<p>18247 rows × 3 columns</p>\n",
       "</div>"
      ],
      "text/plain": [
       "             date  hour  demand\n",
       "0      2018-08-18     9      91\n",
       "1      2018-08-18    10      21\n",
       "2      2018-08-18    13      23\n",
       "3      2018-08-18    14     104\n",
       "4      2018-08-18    15      81\n",
       "...           ...   ...     ...\n",
       "18242  2021-02-28    19      95\n",
       "18243  2021-02-28    20      88\n",
       "18244  2021-02-28    21      39\n",
       "18245  2021-02-28    22     104\n",
       "18246  2021-02-28    23      85\n",
       "\n",
       "[18247 rows x 3 columns]"
      ]
     },
     "execution_count": 2,
     "metadata": {},
     "output_type": "execute_result"
    }
   ],
   "source": [
    "data=pd.read_csv('/Users/alok.g.v/Desktop/analytical vidya/train_E1GspfA.csv')\n",
    "data"
   ]
  },
  {
   "cell_type": "code",
   "execution_count": 3,
   "id": "e6c5253d",
   "metadata": {},
   "outputs": [
    {
     "name": "stdout",
     "output_type": "stream",
     "text": [
      "<class 'pandas.core.frame.DataFrame'>\n",
      "RangeIndex: 18247 entries, 0 to 18246\n",
      "Data columns (total 3 columns):\n",
      " #   Column  Non-Null Count  Dtype \n",
      "---  ------  --------------  ----- \n",
      " 0   date    18247 non-null  object\n",
      " 1   hour    18247 non-null  int64 \n",
      " 2   demand  18247 non-null  int64 \n",
      "dtypes: int64(2), object(1)\n",
      "memory usage: 427.8+ KB\n"
     ]
    }
   ],
   "source": [
    "data.info()"
   ]
  },
  {
   "cell_type": "markdown",
   "id": "38c635b1",
   "metadata": {},
   "source": [
    "# Convert date in object type to datetime"
   ]
  },
  {
   "cell_type": "code",
   "execution_count": 4,
   "id": "f8a1299f",
   "metadata": {},
   "outputs": [],
   "source": [
    "data['date']=pd.to_datetime(data['date'])"
   ]
  },
  {
   "cell_type": "code",
   "execution_count": 5,
   "id": "4dac222e",
   "metadata": {},
   "outputs": [
    {
     "name": "stdout",
     "output_type": "stream",
     "text": [
      "<class 'pandas.core.frame.DataFrame'>\n",
      "RangeIndex: 18247 entries, 0 to 18246\n",
      "Data columns (total 3 columns):\n",
      " #   Column  Non-Null Count  Dtype         \n",
      "---  ------  --------------  -----         \n",
      " 0   date    18247 non-null  datetime64[ns]\n",
      " 1   hour    18247 non-null  int64         \n",
      " 2   demand  18247 non-null  int64         \n",
      "dtypes: datetime64[ns](1), int64(2)\n",
      "memory usage: 427.8 KB\n"
     ]
    }
   ],
   "source": [
    "data.info()"
   ]
  },
  {
   "cell_type": "code",
   "execution_count": 6,
   "id": "160d536c",
   "metadata": {},
   "outputs": [
    {
     "data": {
      "text/plain": [
       "2018-10-14    24\n",
       "2020-04-12    24\n",
       "2021-01-09    24\n",
       "2020-04-05    24\n",
       "2021-02-28    24\n",
       "              ..\n",
       "2018-09-05    11\n",
       "2018-09-03    10\n",
       "2019-08-29     9\n",
       "2018-09-25     9\n",
       "2018-09-30     7\n",
       "Name: date, Length: 895, dtype: int64"
      ]
     },
     "execution_count": 6,
     "metadata": {},
     "output_type": "execute_result"
    }
   ],
   "source": [
    "data['date'].value_counts()"
   ]
  },
  {
   "cell_type": "markdown",
   "id": "bd1b2fa4",
   "metadata": {},
   "source": [
    "# Histogram plot of view the distribution of data over the year"
   ]
  },
  {
   "cell_type": "code",
   "execution_count": 7,
   "id": "b1d30533",
   "metadata": {},
   "outputs": [
    {
     "data": {
      "text/plain": [
       "<AxesSubplot:xlabel='date', ylabel='Count'>"
      ]
     },
     "execution_count": 7,
     "metadata": {},
     "output_type": "execute_result"
    },
    {
     "data": {
      "image/png": "[encoded data removed]",
      "text/plain": [
       "<Figure size 1152x576 with 1 Axes>"
      ]
     },
     "metadata": {
      "needs_background": "light"
     },
     "output_type": "display_data"
    }
   ],
   "source": [
    "plt.figure(figsize=(16,8))\n",
    "sns.histplot(data=data,x='date')"
   ]
  },
  {
   "cell_type": "markdown",
   "id": "fcec9ebd",
   "metadata": {},
   "source": [
    "# Histogram plot to view the distribution over hours"
   ]
  },
  {
   "cell_type": "code",
   "execution_count": 8,
   "id": "de5df482",
   "metadata": {},
   "outputs": [
    {
     "data": {
      "text/plain": [
       "<AxesSubplot:xlabel='hour', ylabel='Count'>"
      ]
     },
     "execution_count": 8,
     "metadata": {},
     "output_type": "execute_result"
    },
    {
     "data": {
      "image/png": "[encoded data removed]",
      "text/plain": [
       "<Figure size 1152x576 with 1 Axes>"
      ]
     },
     "metadata": {
      "needs_background": "light"
     },
     "output_type": "display_data"
    }
   ],
   "source": [
    "plt.figure(figsize=(16,8))\n",
    "sns.histplot(data=data,x='hour')"
   ]
  },
  {
   "cell_type": "markdown",
   "id": "ea576fab",
   "metadata": {},
   "source": [
    "# LINE PLOT TO SHOWCASE DEMAND OVER THE HOURS "
   ]
  },
  {
   "cell_type": "code",
   "execution_count": 9,
   "id": "c3ee6d91",
   "metadata": {},
   "outputs": [
    {
     "data": {
      "text/plain": [
       "<AxesSubplot:xlabel='hour', ylabel='demand'>"
      ]
     },
     "execution_count": 9,
     "metadata": {},
     "output_type": "execute_result"
    },
    {
     "data": {
      "image/png": "[encoded data removed]",
      "text/plain": [
       "<Figure size 432x288 with 1 Axes>"
      ]
     },
     "metadata": {
      "needs_background": "light"
     },
     "output_type": "display_data"
    }
   ],
   "source": [
    "sns.lineplot(data=data,x='hour',y='demand')"
   ]
  },
  {
   "cell_type": "markdown",
   "id": "8ad1013f",
   "metadata": {},
   "source": [
    "# ADDING A COLUMN TO INCLUDE MONTH "
   ]
  },
  {
   "cell_type": "code",
   "execution_count": 10,
   "id": "0b85ca2d",
   "metadata": {},
   "outputs": [
    {
     "data": {
      "text/html": [
       "<div>\n",
       "<style scoped>\n",
       "    .dataframe tbody tr th:only-of-type {\n",
       "        vertical-align: middle;\n",
       "    }\n",
       "\n",
       "    .dataframe tbody tr th {\n",
       "        vertical-align: top;\n",
       "    }\n",
       "\n",
       "    .dataframe thead th {\n",
       "        text-align: right;\n",
       "    }\n",
       "</style>\n",
       "<table border=\"1\" class=\"dataframe\">\n",
       "  <thead>\n",
       "    <tr style=\"text-align: right;\">\n",
       "      <th></th>\n",
       "      <th>date</th>\n",
       "      <th>hour</th>\n",
       "      <th>demand</th>\n",
       "      <th>date_month_name</th>\n",
       "    </tr>\n",
       "  </thead>\n",
       "  <tbody>\n",
       "    <tr>\n",
       "      <th>0</th>\n",
       "      <td>2018-08-18</td>\n",
       "      <td>9</td>\n",
       "      <td>91</td>\n",
       "      <td>August</td>\n",
       "    </tr>\n",
       "    <tr>\n",
       "      <th>1</th>\n",
       "      <td>2018-08-18</td>\n",
       "      <td>10</td>\n",
       "      <td>21</td>\n",
       "      <td>August</td>\n",
       "    </tr>\n",
       "    <tr>\n",
       "      <th>2</th>\n",
       "      <td>2018-08-18</td>\n",
       "      <td>13</td>\n",
       "      <td>23</td>\n",
       "      <td>August</td>\n",
       "    </tr>\n",
       "    <tr>\n",
       "      <th>3</th>\n",
       "      <td>2018-08-18</td>\n",
       "      <td>14</td>\n",
       "      <td>104</td>\n",
       "      <td>August</td>\n",
       "    </tr>\n",
       "    <tr>\n",
       "      <th>4</th>\n",
       "      <td>2018-08-18</td>\n",
       "      <td>15</td>\n",
       "      <td>81</td>\n",
       "      <td>August</td>\n",
       "    </tr>\n",
       "  </tbody>\n",
       "</table>\n",
       "</div>"
      ],
      "text/plain": [
       "        date  hour  demand date_month_name\n",
       "0 2018-08-18     9      91          August\n",
       "1 2018-08-18    10      21          August\n",
       "2 2018-08-18    13      23          August\n",
       "3 2018-08-18    14     104          August\n",
       "4 2018-08-18    15      81          August"
      ]
     },
     "execution_count": 10,
     "metadata": {},
     "output_type": "execute_result"
    }
   ],
   "source": [
    "data['date_month_name']=data['date'].dt.month_name()\n",
    "data.head()"
   ]
  },
  {
   "cell_type": "markdown",
   "id": "0e2d57bb",
   "metadata": {},
   "source": [
    "# ADDING COLUMN TO INCLUDE DAY OF THE WEEK "
   ]
  },
  {
   "cell_type": "code",
   "execution_count": 11,
   "id": "754d7823",
   "metadata": {},
   "outputs": [
    {
     "data": {
      "text/html": [
       "<div>\n",
       "<style scoped>\n",
       "    .dataframe tbody tr th:only-of-type {\n",
       "        vertical-align: middle;\n",
       "    }\n",
       "\n",
       "    .dataframe tbody tr th {\n",
       "        vertical-align: top;\n",
       "    }\n",
       "\n",
       "    .dataframe thead th {\n",
       "        text-align: right;\n",
       "    }\n",
       "</style>\n",
       "<table border=\"1\" class=\"dataframe\">\n",
       "  <thead>\n",
       "    <tr style=\"text-align: right;\">\n",
       "      <th></th>\n",
       "      <th>date</th>\n",
       "      <th>hour</th>\n",
       "      <th>demand</th>\n",
       "      <th>date_month_name</th>\n",
       "      <th>date_day_name</th>\n",
       "    </tr>\n",
       "  </thead>\n",
       "  <tbody>\n",
       "    <tr>\n",
       "      <th>0</th>\n",
       "      <td>2018-08-18</td>\n",
       "      <td>9</td>\n",
       "      <td>91</td>\n",
       "      <td>August</td>\n",
       "      <td>Saturday</td>\n",
       "    </tr>\n",
       "    <tr>\n",
       "      <th>1</th>\n",
       "      <td>2018-08-18</td>\n",
       "      <td>10</td>\n",
       "      <td>21</td>\n",
       "      <td>August</td>\n",
       "      <td>Saturday</td>\n",
       "    </tr>\n",
       "    <tr>\n",
       "      <th>2</th>\n",
       "      <td>2018-08-18</td>\n",
       "      <td>13</td>\n",
       "      <td>23</td>\n",
       "      <td>August</td>\n",
       "      <td>Saturday</td>\n",
       "    </tr>\n",
       "    <tr>\n",
       "      <th>3</th>\n",
       "      <td>2018-08-18</td>\n",
       "      <td>14</td>\n",
       "      <td>104</td>\n",
       "      <td>August</td>\n",
       "      <td>Saturday</td>\n",
       "    </tr>\n",
       "    <tr>\n",
       "      <th>4</th>\n",
       "      <td>2018-08-18</td>\n",
       "      <td>15</td>\n",
       "      <td>81</td>\n",
       "      <td>August</td>\n",
       "      <td>Saturday</td>\n",
       "    </tr>\n",
       "  </tbody>\n",
       "</table>\n",
       "</div>"
      ],
      "text/plain": [
       "        date  hour  demand date_month_name date_day_name\n",
       "0 2018-08-18     9      91          August      Saturday\n",
       "1 2018-08-18    10      21          August      Saturday\n",
       "2 2018-08-18    13      23          August      Saturday\n",
       "3 2018-08-18    14     104          August      Saturday\n",
       "4 2018-08-18    15      81          August      Saturday"
      ]
     },
     "execution_count": 11,
     "metadata": {},
     "output_type": "execute_result"
    }
   ],
   "source": [
    "data['date_day_name']=data['date'].dt.day_name()\n",
    "data.head()"
   ]
  },
  {
   "cell_type": "markdown",
   "id": "a6a05dcb",
   "metadata": {},
   "source": [
    "# ADDING A COLUMN WHICH SPECIFIES WHETHER THE DATE IS A WEEKEND"
   ]
  },
  {
   "cell_type": "code",
   "execution_count": 12,
   "id": "d727c799",
   "metadata": {},
   "outputs": [
    {
     "data": {
      "text/html": [
       "<div>\n",
       "<style scoped>\n",
       "    .dataframe tbody tr th:only-of-type {\n",
       "        vertical-align: middle;\n",
       "    }\n",
       "\n",
       "    .dataframe tbody tr th {\n",
       "        vertical-align: top;\n",
       "    }\n",
       "\n",
       "    .dataframe thead th {\n",
       "        text-align: right;\n",
       "    }\n",
       "</style>\n",
       "<table border=\"1\" class=\"dataframe\">\n",
       "  <thead>\n",
       "    <tr style=\"text-align: right;\">\n",
       "      <th></th>\n",
       "      <th>date</th>\n",
       "      <th>hour</th>\n",
       "      <th>demand</th>\n",
       "      <th>date_month_name</th>\n",
       "      <th>date_day_name</th>\n",
       "      <th>is_weekend</th>\n",
       "    </tr>\n",
       "  </thead>\n",
       "  <tbody>\n",
       "    <tr>\n",
       "      <th>0</th>\n",
       "      <td>2018-08-18</td>\n",
       "      <td>9</td>\n",
       "      <td>91</td>\n",
       "      <td>August</td>\n",
       "      <td>Saturday</td>\n",
       "      <td>1</td>\n",
       "    </tr>\n",
       "    <tr>\n",
       "      <th>1</th>\n",
       "      <td>2018-08-18</td>\n",
       "      <td>10</td>\n",
       "      <td>21</td>\n",
       "      <td>August</td>\n",
       "      <td>Saturday</td>\n",
       "      <td>1</td>\n",
       "    </tr>\n",
       "    <tr>\n",
       "      <th>2</th>\n",
       "      <td>2018-08-18</td>\n",
       "      <td>13</td>\n",
       "      <td>23</td>\n",
       "      <td>August</td>\n",
       "      <td>Saturday</td>\n",
       "      <td>1</td>\n",
       "    </tr>\n",
       "    <tr>\n",
       "      <th>3</th>\n",
       "      <td>2018-08-18</td>\n",
       "      <td>14</td>\n",
       "      <td>104</td>\n",
       "      <td>August</td>\n",
       "      <td>Saturday</td>\n",
       "      <td>1</td>\n",
       "    </tr>\n",
       "    <tr>\n",
       "      <th>4</th>\n",
       "      <td>2018-08-18</td>\n",
       "      <td>15</td>\n",
       "      <td>81</td>\n",
       "      <td>August</td>\n",
       "      <td>Saturday</td>\n",
       "      <td>1</td>\n",
       "    </tr>\n",
       "  </tbody>\n",
       "</table>\n",
       "</div>"
      ],
      "text/plain": [
       "        date  hour  demand date_month_name date_day_name  is_weekend\n",
       "0 2018-08-18     9      91          August      Saturday           1\n",
       "1 2018-08-18    10      21          August      Saturday           1\n",
       "2 2018-08-18    13      23          August      Saturday           1\n",
       "3 2018-08-18    14     104          August      Saturday           1\n",
       "4 2018-08-18    15      81          August      Saturday           1"
      ]
     },
     "execution_count": 12,
     "metadata": {},
     "output_type": "execute_result"
    }
   ],
   "source": [
    "data['is_weekend']=np.where(data['date_day_name'].isin(['Sunday','Saturday']),1,0)\n",
    "data.head()"
   ]
  },
  {
   "cell_type": "markdown",
   "id": "ad80470a",
   "metadata": {},
   "source": [
    "# A column to specify if the data is recorded during woriking hours "
   ]
  },
  {
   "cell_type": "code",
   "execution_count": 13,
   "id": "24ae65d2",
   "metadata": {},
   "outputs": [
    {
     "data": {
      "text/html": [
       "<div>\n",
       "<style scoped>\n",
       "    .dataframe tbody tr th:only-of-type {\n",
       "        vertical-align: middle;\n",
       "    }\n",
       "\n",
       "    .dataframe tbody tr th {\n",
       "        vertical-align: top;\n",
       "    }\n",
       "\n",
       "    .dataframe thead th {\n",
       "        text-align: right;\n",
       "    }\n",
       "</style>\n",
       "<table border=\"1\" class=\"dataframe\">\n",
       "  <thead>\n",
       "    <tr style=\"text-align: right;\">\n",
       "      <th></th>\n",
       "      <th>date</th>\n",
       "      <th>hour</th>\n",
       "      <th>demand</th>\n",
       "      <th>date_month_name</th>\n",
       "      <th>date_day_name</th>\n",
       "      <th>is_weekend</th>\n",
       "      <th>working_hour</th>\n",
       "    </tr>\n",
       "  </thead>\n",
       "  <tbody>\n",
       "    <tr>\n",
       "      <th>0</th>\n",
       "      <td>2018-08-18</td>\n",
       "      <td>9</td>\n",
       "      <td>91</td>\n",
       "      <td>August</td>\n",
       "      <td>Saturday</td>\n",
       "      <td>1</td>\n",
       "      <td>1</td>\n",
       "    </tr>\n",
       "    <tr>\n",
       "      <th>1</th>\n",
       "      <td>2018-08-18</td>\n",
       "      <td>10</td>\n",
       "      <td>21</td>\n",
       "      <td>August</td>\n",
       "      <td>Saturday</td>\n",
       "      <td>1</td>\n",
       "      <td>1</td>\n",
       "    </tr>\n",
       "    <tr>\n",
       "      <th>2</th>\n",
       "      <td>2018-08-18</td>\n",
       "      <td>13</td>\n",
       "      <td>23</td>\n",
       "      <td>August</td>\n",
       "      <td>Saturday</td>\n",
       "      <td>1</td>\n",
       "      <td>1</td>\n",
       "    </tr>\n",
       "    <tr>\n",
       "      <th>3</th>\n",
       "      <td>2018-08-18</td>\n",
       "      <td>14</td>\n",
       "      <td>104</td>\n",
       "      <td>August</td>\n",
       "      <td>Saturday</td>\n",
       "      <td>1</td>\n",
       "      <td>1</td>\n",
       "    </tr>\n",
       "    <tr>\n",
       "      <th>4</th>\n",
       "      <td>2018-08-18</td>\n",
       "      <td>15</td>\n",
       "      <td>81</td>\n",
       "      <td>August</td>\n",
       "      <td>Saturday</td>\n",
       "      <td>1</td>\n",
       "      <td>1</td>\n",
       "    </tr>\n",
       "  </tbody>\n",
       "</table>\n",
       "</div>"
      ],
      "text/plain": [
       "        date  hour  demand date_month_name date_day_name  is_weekend  \\\n",
       "0 2018-08-18     9      91          August      Saturday           1   \n",
       "1 2018-08-18    10      21          August      Saturday           1   \n",
       "2 2018-08-18    13      23          August      Saturday           1   \n",
       "3 2018-08-18    14     104          August      Saturday           1   \n",
       "4 2018-08-18    15      81          August      Saturday           1   \n",
       "\n",
       "   working_hour  \n",
       "0             1  \n",
       "1             1  \n",
       "2             1  \n",
       "3             1  \n",
       "4             1  "
      ]
     },
     "execution_count": 13,
     "metadata": {},
     "output_type": "execute_result"
    }
   ],
   "source": [
    "data['working_hour']=np.where(data['hour'].isin([6,7,8,9,10,11,12,13,14,15,16,17,18,19,20]),1,0)\n",
    "data.head()"
   ]
  },
  {
   "cell_type": "markdown",
   "id": "0a1f550a",
   "metadata": {},
   "source": [
    "# ADDING A COLUMN WHICH SPECIFIES WHETHER THE DATE IS ON A HOLIDAY"
   ]
  },
  {
   "cell_type": "code",
   "execution_count": 14,
   "id": "71dc2703",
   "metadata": {},
   "outputs": [],
   "source": [
    "from pandas.tseries.holiday import USFederalHolidayCalendar as calendar\n"
   ]
  },
  {
   "cell_type": "code",
   "execution_count": 15,
   "id": "2dbff0b1",
   "metadata": {},
   "outputs": [],
   "source": [
    "cal=calendar()\n",
    "holiday=cal.holidays(start=data['date'].min(),end=data['date'].max())\n",
    "data['holiday']=np.where(data['date'].isin(holiday),1,0)\n"
   ]
  },
  {
   "cell_type": "code",
   "execution_count": 16,
   "id": "ffb20a89",
   "metadata": {},
   "outputs": [
    {
     "data": {
      "text/html": [
       "<div>\n",
       "<style scoped>\n",
       "    .dataframe tbody tr th:only-of-type {\n",
       "        vertical-align: middle;\n",
       "    }\n",
       "\n",
       "    .dataframe tbody tr th {\n",
       "        vertical-align: top;\n",
       "    }\n",
       "\n",
       "    .dataframe thead th {\n",
       "        text-align: right;\n",
       "    }\n",
       "</style>\n",
       "<table border=\"1\" class=\"dataframe\">\n",
       "  <thead>\n",
       "    <tr style=\"text-align: right;\">\n",
       "      <th></th>\n",
       "      <th>date</th>\n",
       "      <th>hour</th>\n",
       "      <th>demand</th>\n",
       "      <th>date_month_name</th>\n",
       "      <th>date_day_name</th>\n",
       "      <th>is_weekend</th>\n",
       "      <th>working_hour</th>\n",
       "      <th>holiday</th>\n",
       "    </tr>\n",
       "  </thead>\n",
       "  <tbody>\n",
       "    <tr>\n",
       "      <th>243</th>\n",
       "      <td>2018-09-03</td>\n",
       "      <td>7</td>\n",
       "      <td>73</td>\n",
       "      <td>September</td>\n",
       "      <td>Monday</td>\n",
       "      <td>0</td>\n",
       "      <td>1</td>\n",
       "      <td>1</td>\n",
       "    </tr>\n",
       "    <tr>\n",
       "      <th>244</th>\n",
       "      <td>2018-09-03</td>\n",
       "      <td>8</td>\n",
       "      <td>60</td>\n",
       "      <td>September</td>\n",
       "      <td>Monday</td>\n",
       "      <td>0</td>\n",
       "      <td>1</td>\n",
       "      <td>1</td>\n",
       "    </tr>\n",
       "    <tr>\n",
       "      <th>245</th>\n",
       "      <td>2018-09-03</td>\n",
       "      <td>9</td>\n",
       "      <td>85</td>\n",
       "      <td>September</td>\n",
       "      <td>Monday</td>\n",
       "      <td>0</td>\n",
       "      <td>1</td>\n",
       "      <td>1</td>\n",
       "    </tr>\n",
       "    <tr>\n",
       "      <th>246</th>\n",
       "      <td>2018-09-03</td>\n",
       "      <td>10</td>\n",
       "      <td>40</td>\n",
       "      <td>September</td>\n",
       "      <td>Monday</td>\n",
       "      <td>0</td>\n",
       "      <td>1</td>\n",
       "      <td>1</td>\n",
       "    </tr>\n",
       "    <tr>\n",
       "      <th>247</th>\n",
       "      <td>2018-09-03</td>\n",
       "      <td>12</td>\n",
       "      <td>98</td>\n",
       "      <td>September</td>\n",
       "      <td>Monday</td>\n",
       "      <td>0</td>\n",
       "      <td>1</td>\n",
       "      <td>1</td>\n",
       "    </tr>\n",
       "    <tr>\n",
       "      <th>...</th>\n",
       "      <td>...</td>\n",
       "      <td>...</td>\n",
       "      <td>...</td>\n",
       "      <td>...</td>\n",
       "      <td>...</td>\n",
       "      <td>...</td>\n",
       "      <td>...</td>\n",
       "      <td>...</td>\n",
       "    </tr>\n",
       "    <tr>\n",
       "      <th>17950</th>\n",
       "      <td>2021-02-15</td>\n",
       "      <td>19</td>\n",
       "      <td>79</td>\n",
       "      <td>February</td>\n",
       "      <td>Monday</td>\n",
       "      <td>0</td>\n",
       "      <td>1</td>\n",
       "      <td>1</td>\n",
       "    </tr>\n",
       "    <tr>\n",
       "      <th>17951</th>\n",
       "      <td>2021-02-15</td>\n",
       "      <td>20</td>\n",
       "      <td>93</td>\n",
       "      <td>February</td>\n",
       "      <td>Monday</td>\n",
       "      <td>0</td>\n",
       "      <td>1</td>\n",
       "      <td>1</td>\n",
       "    </tr>\n",
       "    <tr>\n",
       "      <th>17952</th>\n",
       "      <td>2021-02-15</td>\n",
       "      <td>21</td>\n",
       "      <td>43</td>\n",
       "      <td>February</td>\n",
       "      <td>Monday</td>\n",
       "      <td>0</td>\n",
       "      <td>0</td>\n",
       "      <td>1</td>\n",
       "    </tr>\n",
       "    <tr>\n",
       "      <th>17953</th>\n",
       "      <td>2021-02-15</td>\n",
       "      <td>22</td>\n",
       "      <td>43</td>\n",
       "      <td>February</td>\n",
       "      <td>Monday</td>\n",
       "      <td>0</td>\n",
       "      <td>0</td>\n",
       "      <td>1</td>\n",
       "    </tr>\n",
       "    <tr>\n",
       "      <th>17954</th>\n",
       "      <td>2021-02-15</td>\n",
       "      <td>23</td>\n",
       "      <td>37</td>\n",
       "      <td>February</td>\n",
       "      <td>Monday</td>\n",
       "      <td>0</td>\n",
       "      <td>0</td>\n",
       "      <td>1</td>\n",
       "    </tr>\n",
       "  </tbody>\n",
       "</table>\n",
       "<p>550 rows × 8 columns</p>\n",
       "</div>"
      ],
      "text/plain": [
       "            date  hour  demand date_month_name date_day_name  is_weekend  \\\n",
       "243   2018-09-03     7      73       September        Monday           0   \n",
       "244   2018-09-03     8      60       September        Monday           0   \n",
       "245   2018-09-03     9      85       September        Monday           0   \n",
       "246   2018-09-03    10      40       September        Monday           0   \n",
       "247   2018-09-03    12      98       September        Monday           0   \n",
       "...          ...   ...     ...             ...           ...         ...   \n",
       "17950 2021-02-15    19      79        February        Monday           0   \n",
       "17951 2021-02-15    20      93        February        Monday           0   \n",
       "17952 2021-02-15    21      43        February        Monday           0   \n",
       "17953 2021-02-15    22      43        February        Monday           0   \n",
       "17954 2021-02-15    23      37        February        Monday           0   \n",
       "\n",
       "       working_hour  holiday  \n",
       "243               1        1  \n",
       "244               1        1  \n",
       "245               1        1  \n",
       "246               1        1  \n",
       "247               1        1  \n",
       "...             ...      ...  \n",
       "17950             1        1  \n",
       "17951             1        1  \n",
       "17952             0        1  \n",
       "17953             0        1  \n",
       "17954             0        1  \n",
       "\n",
       "[550 rows x 8 columns]"
      ]
     },
     "execution_count": 16,
     "metadata": {},
     "output_type": "execute_result"
    }
   ],
   "source": [
    "data[data['holiday']==1]"
   ]
  },
  {
   "cell_type": "markdown",
   "id": "b0f669e3",
   "metadata": {},
   "source": [
    "# ADDING YEAR AND DAY COLUMN IN DATA SET"
   ]
  },
  {
   "cell_type": "code",
   "execution_count": 17,
   "id": "70eeedfa",
   "metadata": {},
   "outputs": [
    {
     "name": "stdout",
     "output_type": "stream",
     "text": [
      "<class 'pandas.core.frame.DataFrame'>\n",
      "RangeIndex: 18247 entries, 0 to 18246\n",
      "Data columns (total 10 columns):\n",
      " #   Column           Non-Null Count  Dtype         \n",
      "---  ------           --------------  -----         \n",
      " 0   date             18247 non-null  datetime64[ns]\n",
      " 1   hour             18247 non-null  int64         \n",
      " 2   demand           18247 non-null  int64         \n",
      " 3   date_month_name  18247 non-null  object        \n",
      " 4   date_day_name    18247 non-null  object        \n",
      " 5   is_weekend       18247 non-null  int64         \n",
      " 6   working_hour     18247 non-null  int64         \n",
      " 7   holiday          18247 non-null  int64         \n",
      " 8   year             18247 non-null  int64         \n",
      " 9   day              18247 non-null  int64         \n",
      "dtypes: datetime64[ns](1), int64(7), object(2)\n",
      "memory usage: 1.4+ MB\n"
     ]
    }
   ],
   "source": [
    "data['year']=data['date'].dt.year\n",
    "data['day']=data['date'].dt.dayofweek\n",
    "data.info()"
   ]
  },
  {
   "cell_type": "code",
   "execution_count": 18,
   "id": "4d2032e7",
   "metadata": {
    "scrolled": true
   },
   "outputs": [],
   "source": [
    "data_18=data[data['year']==2018]\n",
    "data_19=data[data['year']==2019]\n",
    "data_20=data[data['year']==2020]\n",
    "data_21=data[data['year']==2021]\n",
    "\n",
    "monthly_demand_18=data_18.groupby('date_month_name')['demand'].sum().reset_index().sort_values('demand')\n",
    "monthly_demand_19=data_19.groupby('date_month_name')['demand'].sum().reset_index().sort_values('demand')\n",
    "monthly_demand_20=data_20.groupby('date_month_name')['demand'].sum().reset_index().sort_values('demand')\n",
    "monthly_demand_21=data_21.groupby('date_month_name')['demand'].sum().reset_index().sort_values('demand')\n",
    "data_t=data.groupby('date_month_name')['demand'].sum().reset_index().sort_values('demand')"
   ]
  },
  {
   "cell_type": "markdown",
   "id": "21684be9",
   "metadata": {},
   "source": [
    "# PLOT TO SHOW THE RELATIONSHIP BETWEEN MONTH AND DEMAND"
   ]
  },
  {
   "cell_type": "code",
   "execution_count": 19,
   "id": "58880454",
   "metadata": {},
   "outputs": [
    {
     "data": {
      "image/png": "[encoded data removed]",
      "text/plain": [
       "<Figure size 1152x720 with 5 Axes>"
      ]
     },
     "metadata": {
      "needs_background": "light"
     },
     "output_type": "display_data"
    }
   ],
   "source": [
    "fig,axes=plt.subplots(5,1,figsize=(16,10))\n",
    "sns.barplot(ax=axes[0],data=monthly_demand_18,x='date_month_name',y='demand')\n",
    "sns.barplot(ax=axes[1],data=monthly_demand_19,x='date_month_name',y='demand')\n",
    "sns.barplot(ax=axes[2],data=monthly_demand_20,x='date_month_name',y='demand')\n",
    "sns.barplot(ax=axes[3],data=monthly_demand_21,x='date_month_name',y='demand')\n",
    "sns.barplot(ax=axes[4],data=data_t,x='date_month_name',y='demand')\n",
    "\n",
    "axes[4].set_title('All Four years combined')\n",
    "\n",
    "plt.subplots_adjust(left=0.1,\n",
    "                    bottom=0.1, \n",
    "                    right=0.9, \n",
    "                    top=0.9, \n",
    "                    wspace=0.8, \n",
    "                    hspace=0.8)"
   ]
  },
  {
   "cell_type": "markdown",
   "id": "1f699197",
   "metadata": {},
   "source": [
    "## WE CAN SEE FROM THE PLOT THAT NOVEMBER HAS THE HIGHEST DEMAND AND JULY THE LEAST"
   ]
  },
  {
   "cell_type": "markdown",
   "id": "7a18e9bc",
   "metadata": {},
   "source": [
    "# PLOT TO SHOW THE RELATIONSHIP BETWEEN DAY AND DEMAND"
   ]
  },
  {
   "cell_type": "code",
   "execution_count": 20,
   "id": "1c957a01",
   "metadata": {},
   "outputs": [
    {
     "data": {
      "image/png": "[encoded data removed]",
      "text/plain": [
       "<Figure size 720x720 with 5 Axes>"
      ]
     },
     "metadata": {
      "needs_background": "light"
     },
     "output_type": "display_data"
    }
   ],
   "source": [
    "monthly_demand_18=data_18.groupby('date_day_name')['demand'].sum().reset_index().sort_values('demand')\n",
    "monthly_demand_19=data_19.groupby('date_day_name')['demand'].sum().reset_index().sort_values('demand')\n",
    "monthly_demand_20=data_20.groupby('date_day_name')['demand'].sum().reset_index().sort_values('demand')\n",
    "monthly_demand_21=data_21.groupby('date_day_name')['demand'].sum().reset_index().sort_values('demand')\n",
    "data_t=data.groupby('date_day_name')['demand'].sum().reset_index().sort_values('demand')\n",
    "\n",
    "fig,axes=plt.subplots(5,1,figsize=(10,10))\n",
    "sns.barplot(ax=axes[0],data=monthly_demand_18,x='date_day_name',y='demand')\n",
    "sns.barplot(ax=axes[1],data=monthly_demand_19,x='date_day_name',y='demand')\n",
    "sns.barplot(ax=axes[2],data=monthly_demand_20,x='date_day_name',y='demand')\n",
    "sns.barplot(ax=axes[3],data=monthly_demand_21,x='date_day_name',y='demand')\n",
    "sns.barplot(ax=axes[4],data=data_t,x='date_day_name',y='demand')\n",
    "axes[4].set_title('All Four years combined')\n",
    "\n",
    "plt.subplots_adjust(left=0.1,\n",
    "                    bottom=0.1, \n",
    "                    right=0.9, \n",
    "                    top=0.9, \n",
    "                    wspace=0.8, \n",
    "                    hspace=0.8)"
   ]
  },
  {
   "cell_type": "markdown",
   "id": "2aadc37c",
   "metadata": {},
   "source": [
    "## WE CAN SEE FROM THE PLOT THAT SATURDAY HAS THE HIGHEST DEMAND AND TUESDAY THE LEAST"
   ]
  },
  {
   "cell_type": "markdown",
   "id": "a220b646",
   "metadata": {},
   "source": [
    "# PLOT TO SHOW THE RELATIONSHIP BETWEEN YEAR AND DEMAND"
   ]
  },
  {
   "cell_type": "code",
   "execution_count": 21,
   "id": "844f72e6",
   "metadata": {},
   "outputs": [
    {
     "data": {
      "text/plain": [
       "<AxesSubplot:xlabel='year', ylabel='demand'>"
      ]
     },
     "execution_count": 21,
     "metadata": {},
     "output_type": "execute_result"
    },
    {
     "data": {
      "image/png": "[encoded data removed]",
      "text/plain": [
       "<Figure size 432x288 with 1 Axes>"
      ]
     },
     "metadata": {
      "needs_background": "light"
     },
     "output_type": "display_data"
    }
   ],
   "source": [
    "data_t=data.groupby('year')['demand'].sum().reset_index().sort_values('demand')\n",
    "\n",
    "\n",
    "sns.barplot(data=data_t,x='year',y='demand')\n",
    "\n"
   ]
  },
  {
   "cell_type": "markdown",
   "id": "c961c0a5",
   "metadata": {},
   "source": [
    "# LABEL ENCODING MONTH AND DAY ACCORDING TO THE PLOTS"
   ]
  },
  {
   "cell_type": "code",
   "execution_count": 22,
   "id": "f10f94da",
   "metadata": {},
   "outputs": [
    {
     "name": "stdout",
     "output_type": "stream",
     "text": [
      "['April' 'August' 'December' 'February' 'January' 'July' 'June' 'March'\n",
      " 'May' 'November' 'October' 'September']\n",
      "['July' 'April' 'August' 'May' 'March' 'June' 'December' 'September'\n",
      " 'October' 'February' 'January' 'November']\n"
     ]
    },
    {
     "data": {
      "text/plain": [
       "0        2\n",
       "1        2\n",
       "2        2\n",
       "3        2\n",
       "4        2\n",
       "        ..\n",
       "18242    9\n",
       "18243    9\n",
       "18244    9\n",
       "18245    9\n",
       "18246    9\n",
       "Name: date_month_name, Length: 18247, dtype: int64"
      ]
     },
     "execution_count": 22,
     "metadata": {},
     "output_type": "execute_result"
    }
   ],
   "source": [
    "le=LabelEncoder()\n",
    "le=le.fit(data['date_month_name'])\n",
    "print(le.classes_)\n",
    "le.classes_ = np.array(['July','April','August','May','March','June','December','September','October',\n",
    "                        'February','January','November'])\n",
    "print(le.classes_)\n",
    "data['date_month_name']=le.transform(data['date_month_name'])\n",
    "data['date_month_name']"
   ]
  },
  {
   "cell_type": "code",
   "execution_count": 23,
   "id": "1b7edb6a",
   "metadata": {},
   "outputs": [
    {
     "name": "stdout",
     "output_type": "stream",
     "text": [
      "['Friday' 'Monday' 'Saturday' 'Sunday' 'Thursday' 'Tuesday' 'Wednesday']\n",
      "['Tuesday' 'Wednesday' 'Thursday' 'Monday' 'Friday' 'Sunday' 'Saturday']\n"
     ]
    },
    {
     "data": {
      "text/plain": [
       "0        6\n",
       "1        6\n",
       "2        6\n",
       "3        6\n",
       "4        6\n",
       "        ..\n",
       "18242    5\n",
       "18243    5\n",
       "18244    5\n",
       "18245    5\n",
       "18246    5\n",
       "Name: date_day_name, Length: 18247, dtype: int64"
      ]
     },
     "execution_count": 23,
     "metadata": {},
     "output_type": "execute_result"
    }
   ],
   "source": [
    "le=LabelEncoder()\n",
    "le=le.fit(data['date_day_name'])\n",
    "print(le.classes_)\n",
    "le.classes_ = np.array(['Tuesday','Wednesday','Thursday','Monday','Friday','Sunday','Saturday'])\n",
    "print(le.classes_)\n",
    "data['date_day_name']=le.transform(data['date_day_name'])\n",
    "data['date_day_name']"
   ]
  },
  {
   "cell_type": "code",
   "execution_count": 24,
   "id": "db449146",
   "metadata": {},
   "outputs": [
    {
     "data": {
      "text/html": [
       "<div>\n",
       "<style scoped>\n",
       "    .dataframe tbody tr th:only-of-type {\n",
       "        vertical-align: middle;\n",
       "    }\n",
       "\n",
       "    .dataframe tbody tr th {\n",
       "        vertical-align: top;\n",
       "    }\n",
       "\n",
       "    .dataframe thead th {\n",
       "        text-align: right;\n",
       "    }\n",
       "</style>\n",
       "<table border=\"1\" class=\"dataframe\">\n",
       "  <thead>\n",
       "    <tr style=\"text-align: right;\">\n",
       "      <th></th>\n",
       "      <th>date</th>\n",
       "      <th>hour</th>\n",
       "      <th>demand</th>\n",
       "      <th>date_month_name</th>\n",
       "      <th>date_day_name</th>\n",
       "      <th>is_weekend</th>\n",
       "      <th>working_hour</th>\n",
       "      <th>holiday</th>\n",
       "      <th>year</th>\n",
       "      <th>day</th>\n",
       "    </tr>\n",
       "  </thead>\n",
       "  <tbody>\n",
       "    <tr>\n",
       "      <th>0</th>\n",
       "      <td>2018-08-18</td>\n",
       "      <td>9</td>\n",
       "      <td>91</td>\n",
       "      <td>2</td>\n",
       "      <td>6</td>\n",
       "      <td>1</td>\n",
       "      <td>1</td>\n",
       "      <td>0</td>\n",
       "      <td>2018</td>\n",
       "      <td>5</td>\n",
       "    </tr>\n",
       "    <tr>\n",
       "      <th>1</th>\n",
       "      <td>2018-08-18</td>\n",
       "      <td>10</td>\n",
       "      <td>21</td>\n",
       "      <td>2</td>\n",
       "      <td>6</td>\n",
       "      <td>1</td>\n",
       "      <td>1</td>\n",
       "      <td>0</td>\n",
       "      <td>2018</td>\n",
       "      <td>5</td>\n",
       "    </tr>\n",
       "    <tr>\n",
       "      <th>2</th>\n",
       "      <td>2018-08-18</td>\n",
       "      <td>13</td>\n",
       "      <td>23</td>\n",
       "      <td>2</td>\n",
       "      <td>6</td>\n",
       "      <td>1</td>\n",
       "      <td>1</td>\n",
       "      <td>0</td>\n",
       "      <td>2018</td>\n",
       "      <td>5</td>\n",
       "    </tr>\n",
       "    <tr>\n",
       "      <th>3</th>\n",
       "      <td>2018-08-18</td>\n",
       "      <td>14</td>\n",
       "      <td>104</td>\n",
       "      <td>2</td>\n",
       "      <td>6</td>\n",
       "      <td>1</td>\n",
       "      <td>1</td>\n",
       "      <td>0</td>\n",
       "      <td>2018</td>\n",
       "      <td>5</td>\n",
       "    </tr>\n",
       "    <tr>\n",
       "      <th>4</th>\n",
       "      <td>2018-08-18</td>\n",
       "      <td>15</td>\n",
       "      <td>81</td>\n",
       "      <td>2</td>\n",
       "      <td>6</td>\n",
       "      <td>1</td>\n",
       "      <td>1</td>\n",
       "      <td>0</td>\n",
       "      <td>2018</td>\n",
       "      <td>5</td>\n",
       "    </tr>\n",
       "    <tr>\n",
       "      <th>...</th>\n",
       "      <td>...</td>\n",
       "      <td>...</td>\n",
       "      <td>...</td>\n",
       "      <td>...</td>\n",
       "      <td>...</td>\n",
       "      <td>...</td>\n",
       "      <td>...</td>\n",
       "      <td>...</td>\n",
       "      <td>...</td>\n",
       "      <td>...</td>\n",
       "    </tr>\n",
       "    <tr>\n",
       "      <th>18242</th>\n",
       "      <td>2021-02-28</td>\n",
       "      <td>19</td>\n",
       "      <td>95</td>\n",
       "      <td>9</td>\n",
       "      <td>5</td>\n",
       "      <td>1</td>\n",
       "      <td>1</td>\n",
       "      <td>0</td>\n",
       "      <td>2021</td>\n",
       "      <td>6</td>\n",
       "    </tr>\n",
       "    <tr>\n",
       "      <th>18243</th>\n",
       "      <td>2021-02-28</td>\n",
       "      <td>20</td>\n",
       "      <td>88</td>\n",
       "      <td>9</td>\n",
       "      <td>5</td>\n",
       "      <td>1</td>\n",
       "      <td>1</td>\n",
       "      <td>0</td>\n",
       "      <td>2021</td>\n",
       "      <td>6</td>\n",
       "    </tr>\n",
       "    <tr>\n",
       "      <th>18244</th>\n",
       "      <td>2021-02-28</td>\n",
       "      <td>21</td>\n",
       "      <td>39</td>\n",
       "      <td>9</td>\n",
       "      <td>5</td>\n",
       "      <td>1</td>\n",
       "      <td>0</td>\n",
       "      <td>0</td>\n",
       "      <td>2021</td>\n",
       "      <td>6</td>\n",
       "    </tr>\n",
       "    <tr>\n",
       "      <th>18245</th>\n",
       "      <td>2021-02-28</td>\n",
       "      <td>22</td>\n",
       "      <td>104</td>\n",
       "      <td>9</td>\n",
       "      <td>5</td>\n",
       "      <td>1</td>\n",
       "      <td>0</td>\n",
       "      <td>0</td>\n",
       "      <td>2021</td>\n",
       "      <td>6</td>\n",
       "    </tr>\n",
       "    <tr>\n",
       "      <th>18246</th>\n",
       "      <td>2021-02-28</td>\n",
       "      <td>23</td>\n",
       "      <td>85</td>\n",
       "      <td>9</td>\n",
       "      <td>5</td>\n",
       "      <td>1</td>\n",
       "      <td>0</td>\n",
       "      <td>0</td>\n",
       "      <td>2021</td>\n",
       "      <td>6</td>\n",
       "    </tr>\n",
       "  </tbody>\n",
       "</table>\n",
       "<p>18247 rows × 10 columns</p>\n",
       "</div>"
      ],
      "text/plain": [
       "            date  hour  demand  date_month_name  date_day_name  is_weekend  \\\n",
       "0     2018-08-18     9      91                2              6           1   \n",
       "1     2018-08-18    10      21                2              6           1   \n",
       "2     2018-08-18    13      23                2              6           1   \n",
       "3     2018-08-18    14     104                2              6           1   \n",
       "4     2018-08-18    15      81                2              6           1   \n",
       "...          ...   ...     ...              ...            ...         ...   \n",
       "18242 2021-02-28    19      95                9              5           1   \n",
       "18243 2021-02-28    20      88                9              5           1   \n",
       "18244 2021-02-28    21      39                9              5           1   \n",
       "18245 2021-02-28    22     104                9              5           1   \n",
       "18246 2021-02-28    23      85                9              5           1   \n",
       "\n",
       "       working_hour  holiday  year  day  \n",
       "0                 1        0  2018    5  \n",
       "1                 1        0  2018    5  \n",
       "2                 1        0  2018    5  \n",
       "3                 1        0  2018    5  \n",
       "4                 1        0  2018    5  \n",
       "...             ...      ...   ...  ...  \n",
       "18242             1        0  2021    6  \n",
       "18243             1        0  2021    6  \n",
       "18244             0        0  2021    6  \n",
       "18245             0        0  2021    6  \n",
       "18246             0        0  2021    6  \n",
       "\n",
       "[18247 rows x 10 columns]"
      ]
     },
     "execution_count": 24,
     "metadata": {},
     "output_type": "execute_result"
    }
   ],
   "source": [
    "data"
   ]
  },
  {
   "cell_type": "code",
   "execution_count": 25,
   "id": "cabc03f3",
   "metadata": {},
   "outputs": [
    {
     "data": {
      "text/html": [
       "<div>\n",
       "<style scoped>\n",
       "    .dataframe tbody tr th:only-of-type {\n",
       "        vertical-align: middle;\n",
       "    }\n",
       "\n",
       "    .dataframe tbody tr th {\n",
       "        vertical-align: top;\n",
       "    }\n",
       "\n",
       "    .dataframe thead th {\n",
       "        text-align: right;\n",
       "    }\n",
       "</style>\n",
       "<table border=\"1\" class=\"dataframe\">\n",
       "  <thead>\n",
       "    <tr style=\"text-align: right;\">\n",
       "      <th></th>\n",
       "      <th>hour</th>\n",
       "      <th>is_weekend</th>\n",
       "      <th>working_hour</th>\n",
       "      <th>holiday</th>\n",
       "      <th>year</th>\n",
       "      <th>day</th>\n",
       "      <th>date_month_name</th>\n",
       "      <th>date_day_name</th>\n",
       "    </tr>\n",
       "  </thead>\n",
       "  <tbody>\n",
       "    <tr>\n",
       "      <th>0</th>\n",
       "      <td>9</td>\n",
       "      <td>1</td>\n",
       "      <td>1</td>\n",
       "      <td>0</td>\n",
       "      <td>2018</td>\n",
       "      <td>5</td>\n",
       "      <td>2</td>\n",
       "      <td>6</td>\n",
       "    </tr>\n",
       "    <tr>\n",
       "      <th>1</th>\n",
       "      <td>10</td>\n",
       "      <td>1</td>\n",
       "      <td>1</td>\n",
       "      <td>0</td>\n",
       "      <td>2018</td>\n",
       "      <td>5</td>\n",
       "      <td>2</td>\n",
       "      <td>6</td>\n",
       "    </tr>\n",
       "    <tr>\n",
       "      <th>2</th>\n",
       "      <td>13</td>\n",
       "      <td>1</td>\n",
       "      <td>1</td>\n",
       "      <td>0</td>\n",
       "      <td>2018</td>\n",
       "      <td>5</td>\n",
       "      <td>2</td>\n",
       "      <td>6</td>\n",
       "    </tr>\n",
       "    <tr>\n",
       "      <th>3</th>\n",
       "      <td>14</td>\n",
       "      <td>1</td>\n",
       "      <td>1</td>\n",
       "      <td>0</td>\n",
       "      <td>2018</td>\n",
       "      <td>5</td>\n",
       "      <td>2</td>\n",
       "      <td>6</td>\n",
       "    </tr>\n",
       "    <tr>\n",
       "      <th>4</th>\n",
       "      <td>15</td>\n",
       "      <td>1</td>\n",
       "      <td>1</td>\n",
       "      <td>0</td>\n",
       "      <td>2018</td>\n",
       "      <td>5</td>\n",
       "      <td>2</td>\n",
       "      <td>6</td>\n",
       "    </tr>\n",
       "    <tr>\n",
       "      <th>...</th>\n",
       "      <td>...</td>\n",
       "      <td>...</td>\n",
       "      <td>...</td>\n",
       "      <td>...</td>\n",
       "      <td>...</td>\n",
       "      <td>...</td>\n",
       "      <td>...</td>\n",
       "      <td>...</td>\n",
       "    </tr>\n",
       "    <tr>\n",
       "      <th>18242</th>\n",
       "      <td>19</td>\n",
       "      <td>1</td>\n",
       "      <td>1</td>\n",
       "      <td>0</td>\n",
       "      <td>2021</td>\n",
       "      <td>6</td>\n",
       "      <td>9</td>\n",
       "      <td>5</td>\n",
       "    </tr>\n",
       "    <tr>\n",
       "      <th>18243</th>\n",
       "      <td>20</td>\n",
       "      <td>1</td>\n",
       "      <td>1</td>\n",
       "      <td>0</td>\n",
       "      <td>2021</td>\n",
       "      <td>6</td>\n",
       "      <td>9</td>\n",
       "      <td>5</td>\n",
       "    </tr>\n",
       "    <tr>\n",
       "      <th>18244</th>\n",
       "      <td>21</td>\n",
       "      <td>1</td>\n",
       "      <td>0</td>\n",
       "      <td>0</td>\n",
       "      <td>2021</td>\n",
       "      <td>6</td>\n",
       "      <td>9</td>\n",
       "      <td>5</td>\n",
       "    </tr>\n",
       "    <tr>\n",
       "      <th>18245</th>\n",
       "      <td>22</td>\n",
       "      <td>1</td>\n",
       "      <td>0</td>\n",
       "      <td>0</td>\n",
       "      <td>2021</td>\n",
       "      <td>6</td>\n",
       "      <td>9</td>\n",
       "      <td>5</td>\n",
       "    </tr>\n",
       "    <tr>\n",
       "      <th>18246</th>\n",
       "      <td>23</td>\n",
       "      <td>1</td>\n",
       "      <td>0</td>\n",
       "      <td>0</td>\n",
       "      <td>2021</td>\n",
       "      <td>6</td>\n",
       "      <td>9</td>\n",
       "      <td>5</td>\n",
       "    </tr>\n",
       "  </tbody>\n",
       "</table>\n",
       "<p>18247 rows × 8 columns</p>\n",
       "</div>"
      ],
      "text/plain": [
       "       hour  is_weekend  working_hour  holiday  year  day  date_month_name  \\\n",
       "0         9           1             1        0  2018    5                2   \n",
       "1        10           1             1        0  2018    5                2   \n",
       "2        13           1             1        0  2018    5                2   \n",
       "3        14           1             1        0  2018    5                2   \n",
       "4        15           1             1        0  2018    5                2   \n",
       "...     ...         ...           ...      ...   ...  ...              ...   \n",
       "18242    19           1             1        0  2021    6                9   \n",
       "18243    20           1             1        0  2021    6                9   \n",
       "18244    21           1             0        0  2021    6                9   \n",
       "18245    22           1             0        0  2021    6                9   \n",
       "18246    23           1             0        0  2021    6                9   \n",
       "\n",
       "       date_day_name  \n",
       "0                  6  \n",
       "1                  6  \n",
       "2                  6  \n",
       "3                  6  \n",
       "4                  6  \n",
       "...              ...  \n",
       "18242              5  \n",
       "18243              5  \n",
       "18244              5  \n",
       "18245              5  \n",
       "18246              5  \n",
       "\n",
       "[18247 rows x 8 columns]"
      ]
     },
     "execution_count": 25,
     "metadata": {},
     "output_type": "execute_result"
    }
   ],
   "source": [
    "X=data[['hour','is_weekend','working_hour','holiday','year','day','date_month_name','date_day_name']]\n",
    "y=data['demand']\n",
    "X"
   ]
  },
  {
   "cell_type": "markdown",
   "id": "42aa9652",
   "metadata": {},
   "source": [
    "# SPLIT THE DATA TO TRIAN AND SPLIT"
   ]
  },
  {
   "cell_type": "code",
   "execution_count": 26,
   "id": "e312b8d6",
   "metadata": {},
   "outputs": [],
   "source": [
    "X_train,X_test,y_train,y_test=train_test_split(X,y,test_size=0.25)\n"
   ]
  },
  {
   "cell_type": "code",
   "execution_count": 27,
   "id": "468e5d51",
   "metadata": {},
   "outputs": [],
   "source": [
    "from sklearn.model_selection import cross_val_score\n",
    "from sklearn.metrics import mean_squared_error\n",
    "from sklearn.metrics import r2_score\n",
    "from sklearn.metrics import mean_squared_error\n",
    "from math import sqrt\n",
    "from sklearn.model_selection import GridSearchCV\n",
    "import xgboost as xgb\n",
    "\n",
    "\n"
   ]
  },
  {
   "cell_type": "markdown",
   "id": "a81dfd5e",
   "metadata": {},
   "source": [
    "# CROSS VALIDATION OF PARAMETERS FOR XGBOOST"
   ]
  },
  {
   "cell_type": "code",
   "execution_count": 28,
   "id": "4d7e1831",
   "metadata": {},
   "outputs": [
    {
     "name": "stdout",
     "output_type": "stream",
     "text": [
      "The best hyperparameters are  {'learning_rate': 0.02, 'max_depth': 5, 'n_estimators': 500}\n"
     ]
    }
   ],
   "source": [
    "param_grid={'max_depth':[3,4,5],\n",
    "            'n_estimators': [500,700,900],\n",
    "            'learning_rate': [0.02,0.03]}\n",
    "regressor=xgb.XGBRegressor()\n",
    "search = GridSearchCV(regressor, param_grid, cv=5).fit(X_train, y_train)\n",
    "print(\"The best hyperparameters are \",search.best_params_)\n",
    "\n"
   ]
  },
  {
   "cell_type": "code",
   "execution_count": 39,
   "id": "b8ee2e0d",
   "metadata": {},
   "outputs": [
    {
     "data": {
      "text/plain": [
       "array([54.969986, 71.03257 , 98.60019 , ..., 65.64529 , 66.8594  ,\n",
       "       55.05345 ], dtype=float32)"
      ]
     },
     "execution_count": 39,
     "metadata": {},
     "output_type": "execute_result"
    }
   ],
   "source": [
    "import xgboost as xgb\n",
    "regressor=xgb.XGBRegressor(learning_rate=0.02,n_estimators=500,max_depth=5)\n",
    "regressor=regressor.fit(X_train,y_train)\n",
    "y_pred_XGB=regressor.predict(X_test)\n",
    "y_pred_XGB"
   ]
  },
  {
   "cell_type": "code",
   "execution_count": 40,
   "id": "fa644d12",
   "metadata": {},
   "outputs": [
    {
     "data": {
      "text/plain": [
       "16590     82\n",
       "13928     96\n",
       "13357    143\n",
       "4479      78\n",
       "4543      77\n",
       "        ... \n",
       "6637      56\n",
       "11495    106\n",
       "6558      13\n",
       "6062      38\n",
       "7979      77\n",
       "Name: demand, Length: 4562, dtype: int64"
      ]
     },
     "execution_count": 40,
     "metadata": {},
     "output_type": "execute_result"
    }
   ],
   "source": [
    "y_test"
   ]
  },
  {
   "cell_type": "markdown",
   "id": "bc133d9f",
   "metadata": {},
   "source": [
    "# RESULT"
   ]
  },
  {
   "cell_type": "code",
   "execution_count": 41,
   "id": "7d4715c6",
   "metadata": {},
   "outputs": [
    {
     "data": {
      "text/plain": [
       "0.2718873368904082"
      ]
     },
     "execution_count": 41,
     "metadata": {},
     "output_type": "execute_result"
    }
   ],
   "source": [
    "XGB_r2=r2_score(y_test, y_pred_XGB)\n",
    "XGB_r2"
   ]
  },
  {
   "cell_type": "code",
   "execution_count": 42,
   "id": "8c1d25aa",
   "metadata": {},
   "outputs": [
    {
     "name": "stdout",
     "output_type": "stream",
     "text": [
      "Root Mean Squared Error:  34.643092465921036\n"
     ]
    }
   ],
   "source": [
    "RMSE=sqrt(mean_squared_error(y_test,y_pred_XGB))\n",
    "print(\"Root Mean Squared Error: \",sqrt(mean_squared_error(y_test,y_pred_XGB)))\n",
    "\n"
   ]
  },
  {
   "cell_type": "markdown",
   "id": "49b70c7f",
   "metadata": {},
   "source": [
    "# Repeating the same steps for the Test set "
   ]
  },
  {
   "cell_type": "code",
   "execution_count": 43,
   "id": "e733afee",
   "metadata": {},
   "outputs": [
    {
     "data": {
      "text/html": [
       "<div>\n",
       "<style scoped>\n",
       "    .dataframe tbody tr th:only-of-type {\n",
       "        vertical-align: middle;\n",
       "    }\n",
       "\n",
       "    .dataframe tbody tr th {\n",
       "        vertical-align: top;\n",
       "    }\n",
       "\n",
       "    .dataframe thead th {\n",
       "        text-align: right;\n",
       "    }\n",
       "</style>\n",
       "<table border=\"1\" class=\"dataframe\">\n",
       "  <thead>\n",
       "    <tr style=\"text-align: right;\">\n",
       "      <th></th>\n",
       "      <th>date</th>\n",
       "      <th>hour</th>\n",
       "    </tr>\n",
       "  </thead>\n",
       "  <tbody>\n",
       "    <tr>\n",
       "      <th>0</th>\n",
       "      <td>2021-03-01</td>\n",
       "      <td>0</td>\n",
       "    </tr>\n",
       "    <tr>\n",
       "      <th>1</th>\n",
       "      <td>2021-03-01</td>\n",
       "      <td>1</td>\n",
       "    </tr>\n",
       "    <tr>\n",
       "      <th>2</th>\n",
       "      <td>2021-03-01</td>\n",
       "      <td>2</td>\n",
       "    </tr>\n",
       "    <tr>\n",
       "      <th>3</th>\n",
       "      <td>2021-03-01</td>\n",
       "      <td>3</td>\n",
       "    </tr>\n",
       "    <tr>\n",
       "      <th>4</th>\n",
       "      <td>2021-03-01</td>\n",
       "      <td>5</td>\n",
       "    </tr>\n",
       "    <tr>\n",
       "      <th>...</th>\n",
       "      <td>...</td>\n",
       "      <td>...</td>\n",
       "    </tr>\n",
       "    <tr>\n",
       "      <th>7645</th>\n",
       "      <td>2022-03-28</td>\n",
       "      <td>19</td>\n",
       "    </tr>\n",
       "    <tr>\n",
       "      <th>7646</th>\n",
       "      <td>2022-03-28</td>\n",
       "      <td>20</td>\n",
       "    </tr>\n",
       "    <tr>\n",
       "      <th>7647</th>\n",
       "      <td>2022-03-28</td>\n",
       "      <td>21</td>\n",
       "    </tr>\n",
       "    <tr>\n",
       "      <th>7648</th>\n",
       "      <td>2022-03-28</td>\n",
       "      <td>22</td>\n",
       "    </tr>\n",
       "    <tr>\n",
       "      <th>7649</th>\n",
       "      <td>2022-03-28</td>\n",
       "      <td>23</td>\n",
       "    </tr>\n",
       "  </tbody>\n",
       "</table>\n",
       "<p>7650 rows × 2 columns</p>\n",
       "</div>"
      ],
      "text/plain": [
       "            date  hour\n",
       "0     2021-03-01     0\n",
       "1     2021-03-01     1\n",
       "2     2021-03-01     2\n",
       "3     2021-03-01     3\n",
       "4     2021-03-01     5\n",
       "...          ...   ...\n",
       "7645  2022-03-28    19\n",
       "7646  2022-03-28    20\n",
       "7647  2022-03-28    21\n",
       "7648  2022-03-28    22\n",
       "7649  2022-03-28    23\n",
       "\n",
       "[7650 rows x 2 columns]"
      ]
     },
     "execution_count": 43,
     "metadata": {},
     "output_type": "execute_result"
    }
   ],
   "source": [
    "test_data=pd.read_csv('/Users/alok.g.v/Desktop/analytical vidya/test_6QvDdzb.csv')\n",
    "test_data"
   ]
  },
  {
   "cell_type": "code",
   "execution_count": 44,
   "id": "af744356",
   "metadata": {},
   "outputs": [
    {
     "data": {
      "text/html": [
       "<div>\n",
       "<style scoped>\n",
       "    .dataframe tbody tr th:only-of-type {\n",
       "        vertical-align: middle;\n",
       "    }\n",
       "\n",
       "    .dataframe tbody tr th {\n",
       "        vertical-align: top;\n",
       "    }\n",
       "\n",
       "    .dataframe thead th {\n",
       "        text-align: right;\n",
       "    }\n",
       "</style>\n",
       "<table border=\"1\" class=\"dataframe\">\n",
       "  <thead>\n",
       "    <tr style=\"text-align: right;\">\n",
       "      <th></th>\n",
       "      <th>hour</th>\n",
       "      <th>is_weekend</th>\n",
       "      <th>working_hour</th>\n",
       "      <th>holiday</th>\n",
       "      <th>year</th>\n",
       "      <th>day</th>\n",
       "      <th>date_month_name</th>\n",
       "      <th>date_day_name</th>\n",
       "    </tr>\n",
       "  </thead>\n",
       "  <tbody>\n",
       "    <tr>\n",
       "      <th>0</th>\n",
       "      <td>0</td>\n",
       "      <td>0</td>\n",
       "      <td>0</td>\n",
       "      <td>0</td>\n",
       "      <td>2021</td>\n",
       "      <td>0</td>\n",
       "      <td>4</td>\n",
       "      <td>3</td>\n",
       "    </tr>\n",
       "    <tr>\n",
       "      <th>1</th>\n",
       "      <td>1</td>\n",
       "      <td>0</td>\n",
       "      <td>0</td>\n",
       "      <td>0</td>\n",
       "      <td>2021</td>\n",
       "      <td>0</td>\n",
       "      <td>4</td>\n",
       "      <td>3</td>\n",
       "    </tr>\n",
       "    <tr>\n",
       "      <th>2</th>\n",
       "      <td>2</td>\n",
       "      <td>0</td>\n",
       "      <td>0</td>\n",
       "      <td>0</td>\n",
       "      <td>2021</td>\n",
       "      <td>0</td>\n",
       "      <td>4</td>\n",
       "      <td>3</td>\n",
       "    </tr>\n",
       "    <tr>\n",
       "      <th>3</th>\n",
       "      <td>3</td>\n",
       "      <td>0</td>\n",
       "      <td>0</td>\n",
       "      <td>0</td>\n",
       "      <td>2021</td>\n",
       "      <td>0</td>\n",
       "      <td>4</td>\n",
       "      <td>3</td>\n",
       "    </tr>\n",
       "    <tr>\n",
       "      <th>4</th>\n",
       "      <td>5</td>\n",
       "      <td>0</td>\n",
       "      <td>0</td>\n",
       "      <td>0</td>\n",
       "      <td>2021</td>\n",
       "      <td>0</td>\n",
       "      <td>4</td>\n",
       "      <td>3</td>\n",
       "    </tr>\n",
       "    <tr>\n",
       "      <th>...</th>\n",
       "      <td>...</td>\n",
       "      <td>...</td>\n",
       "      <td>...</td>\n",
       "      <td>...</td>\n",
       "      <td>...</td>\n",
       "      <td>...</td>\n",
       "      <td>...</td>\n",
       "      <td>...</td>\n",
       "    </tr>\n",
       "    <tr>\n",
       "      <th>7645</th>\n",
       "      <td>19</td>\n",
       "      <td>0</td>\n",
       "      <td>1</td>\n",
       "      <td>0</td>\n",
       "      <td>2022</td>\n",
       "      <td>0</td>\n",
       "      <td>4</td>\n",
       "      <td>3</td>\n",
       "    </tr>\n",
       "    <tr>\n",
       "      <th>7646</th>\n",
       "      <td>20</td>\n",
       "      <td>0</td>\n",
       "      <td>1</td>\n",
       "      <td>0</td>\n",
       "      <td>2022</td>\n",
       "      <td>0</td>\n",
       "      <td>4</td>\n",
       "      <td>3</td>\n",
       "    </tr>\n",
       "    <tr>\n",
       "      <th>7647</th>\n",
       "      <td>21</td>\n",
       "      <td>0</td>\n",
       "      <td>0</td>\n",
       "      <td>0</td>\n",
       "      <td>2022</td>\n",
       "      <td>0</td>\n",
       "      <td>4</td>\n",
       "      <td>3</td>\n",
       "    </tr>\n",
       "    <tr>\n",
       "      <th>7648</th>\n",
       "      <td>22</td>\n",
       "      <td>0</td>\n",
       "      <td>0</td>\n",
       "      <td>0</td>\n",
       "      <td>2022</td>\n",
       "      <td>0</td>\n",
       "      <td>4</td>\n",
       "      <td>3</td>\n",
       "    </tr>\n",
       "    <tr>\n",
       "      <th>7649</th>\n",
       "      <td>23</td>\n",
       "      <td>0</td>\n",
       "      <td>0</td>\n",
       "      <td>0</td>\n",
       "      <td>2022</td>\n",
       "      <td>0</td>\n",
       "      <td>4</td>\n",
       "      <td>3</td>\n",
       "    </tr>\n",
       "  </tbody>\n",
       "</table>\n",
       "<p>7650 rows × 8 columns</p>\n",
       "</div>"
      ],
      "text/plain": [
       "      hour  is_weekend  working_hour  holiday  year  day  date_month_name  \\\n",
       "0        0           0             0        0  2021    0                4   \n",
       "1        1           0             0        0  2021    0                4   \n",
       "2        2           0             0        0  2021    0                4   \n",
       "3        3           0             0        0  2021    0                4   \n",
       "4        5           0             0        0  2021    0                4   \n",
       "...    ...         ...           ...      ...   ...  ...              ...   \n",
       "7645    19           0             1        0  2022    0                4   \n",
       "7646    20           0             1        0  2022    0                4   \n",
       "7647    21           0             0        0  2022    0                4   \n",
       "7648    22           0             0        0  2022    0                4   \n",
       "7649    23           0             0        0  2022    0                4   \n",
       "\n",
       "      date_day_name  \n",
       "0                 3  \n",
       "1                 3  \n",
       "2                 3  \n",
       "3                 3  \n",
       "4                 3  \n",
       "...             ...  \n",
       "7645              3  \n",
       "7646              3  \n",
       "7647              3  \n",
       "7648              3  \n",
       "7649              3  \n",
       "\n",
       "[7650 rows x 8 columns]"
      ]
     },
     "execution_count": 44,
     "metadata": {},
     "output_type": "execute_result"
    }
   ],
   "source": [
    "test_data['date']=pd.to_datetime(test_data['date'])\n",
    "\n",
    "test_data['date_month_name']=test_data['date'].dt.month_name()\n",
    "test_data['date_day_name']=test_data['date'].dt.day_name()\n",
    "test_data['is_weekend']=np.where(test_data['date_day_name'].isin(['Sunday','Saturday']),1,0)\n",
    "test_data['working_hour']=np.where(test_data['hour'].isin([6,7,8,9,10,11,12,13,14,15,16,17,18,19,20]),1,0)\n",
    "\n",
    "cal=calendar()\n",
    "holiday=cal.holidays(start=test_data['date'].min(),end=test_data['date'].max())\n",
    "test_data['holiday']=np.where(test_data['date'].isin(holiday),1,0)\n",
    "\n",
    "\n",
    "test_data['year']=test_data['date'].dt.year\n",
    "test_data['day']=test_data['date'].dt.dayofweek\n",
    "\n",
    "le=LabelEncoder()\n",
    "le=le.fit(test_data['date_month_name'])\n",
    "le.classes_ = np.array(['July','April','August','May','March','June','December','September','October',\n",
    "                        'February','January','November'])\n",
    "test_data['date_month_name']=le.transform(test_data['date_month_name'])\n",
    "\n",
    "le=LabelEncoder()\n",
    "le=le.fit(test_data['date_day_name'])\n",
    "le.classes_ = np.array(['Tuesday','Wednesday','Thursday','Monday','Friday','Sunday','Saturday'])\n",
    "test_data['date_day_name']=le.transform(test_data['date_day_name'])\n",
    "X=test_data[['hour','is_weekend','working_hour','holiday','year','day','date_month_name','date_day_name']]\n",
    "X"
   ]
  },
  {
   "cell_type": "code",
   "execution_count": 45,
   "id": "a31b665d",
   "metadata": {},
   "outputs": [
    {
     "data": {
      "text/plain": [
       "array([62.636486, 53.67969 , 53.827423, ..., 66.809586, 61.010174,\n",
       "       57.065464], dtype=float32)"
      ]
     },
     "execution_count": 45,
     "metadata": {},
     "output_type": "execute_result"
    }
   ],
   "source": [
    "regressor=xgb.XGBRegressor(learning_rate=0.02,n_estimators=500,max_depth=5)\n",
    "regressor=regressor.fit(X_train,y_train)\n",
    "final=regressor.predict(X)\n",
    "final"
   ]
  },
  {
   "cell_type": "code",
   "execution_count": 46,
   "id": "f3c80980",
   "metadata": {},
   "outputs": [
    {
     "data": {
      "text/html": [
       "<div>\n",
       "<style scoped>\n",
       "    .dataframe tbody tr th:only-of-type {\n",
       "        vertical-align: middle;\n",
       "    }\n",
       "\n",
       "    .dataframe tbody tr th {\n",
       "        vertical-align: top;\n",
       "    }\n",
       "\n",
       "    .dataframe thead th {\n",
       "        text-align: right;\n",
       "    }\n",
       "</style>\n",
       "<table border=\"1\" class=\"dataframe\">\n",
       "  <thead>\n",
       "    <tr style=\"text-align: right;\">\n",
       "      <th></th>\n",
       "      <th>demand</th>\n",
       "    </tr>\n",
       "  </thead>\n",
       "  <tbody>\n",
       "    <tr>\n",
       "      <th>0</th>\n",
       "      <td>62.636486</td>\n",
       "    </tr>\n",
       "    <tr>\n",
       "      <th>1</th>\n",
       "      <td>53.679691</td>\n",
       "    </tr>\n",
       "    <tr>\n",
       "      <th>2</th>\n",
       "      <td>53.827423</td>\n",
       "    </tr>\n",
       "    <tr>\n",
       "      <th>3</th>\n",
       "      <td>53.409328</td>\n",
       "    </tr>\n",
       "    <tr>\n",
       "      <th>4</th>\n",
       "      <td>49.443558</td>\n",
       "    </tr>\n",
       "    <tr>\n",
       "      <th>...</th>\n",
       "      <td>...</td>\n",
       "    </tr>\n",
       "    <tr>\n",
       "      <th>7645</th>\n",
       "      <td>84.400063</td>\n",
       "    </tr>\n",
       "    <tr>\n",
       "      <th>7646</th>\n",
       "      <td>73.812096</td>\n",
       "    </tr>\n",
       "    <tr>\n",
       "      <th>7647</th>\n",
       "      <td>66.809586</td>\n",
       "    </tr>\n",
       "    <tr>\n",
       "      <th>7648</th>\n",
       "      <td>61.010174</td>\n",
       "    </tr>\n",
       "    <tr>\n",
       "      <th>7649</th>\n",
       "      <td>57.065464</td>\n",
       "    </tr>\n",
       "  </tbody>\n",
       "</table>\n",
       "<p>7650 rows × 1 columns</p>\n",
       "</div>"
      ],
      "text/plain": [
       "         demand\n",
       "0     62.636486\n",
       "1     53.679691\n",
       "2     53.827423\n",
       "3     53.409328\n",
       "4     49.443558\n",
       "...         ...\n",
       "7645  84.400063\n",
       "7646  73.812096\n",
       "7647  66.809586\n",
       "7648  61.010174\n",
       "7649  57.065464\n",
       "\n",
       "[7650 rows x 1 columns]"
      ]
     },
     "execution_count": 46,
     "metadata": {},
     "output_type": "execute_result"
    }
   ],
   "source": [
    "final=pd.DataFrame(final,columns=['demand'])\n",
    "final"
   ]
  },
  {
   "cell_type": "code",
   "execution_count": 47,
   "id": "0c9b4e3b",
   "metadata": {},
   "outputs": [
    {
     "data": {
      "text/html": [
       "<div>\n",
       "<style scoped>\n",
       "    .dataframe tbody tr th:only-of-type {\n",
       "        vertical-align: middle;\n",
       "    }\n",
       "\n",
       "    .dataframe tbody tr th {\n",
       "        vertical-align: top;\n",
       "    }\n",
       "\n",
       "    .dataframe thead th {\n",
       "        text-align: right;\n",
       "    }\n",
       "</style>\n",
       "<table border=\"1\" class=\"dataframe\">\n",
       "  <thead>\n",
       "    <tr style=\"text-align: right;\">\n",
       "      <th></th>\n",
       "      <th>date</th>\n",
       "      <th>hour</th>\n",
       "      <th>demand</th>\n",
       "    </tr>\n",
       "  </thead>\n",
       "  <tbody>\n",
       "    <tr>\n",
       "      <th>0</th>\n",
       "      <td>2021-03-01</td>\n",
       "      <td>0</td>\n",
       "      <td>62.636486</td>\n",
       "    </tr>\n",
       "    <tr>\n",
       "      <th>1</th>\n",
       "      <td>2021-03-01</td>\n",
       "      <td>1</td>\n",
       "      <td>53.679691</td>\n",
       "    </tr>\n",
       "    <tr>\n",
       "      <th>2</th>\n",
       "      <td>2021-03-01</td>\n",
       "      <td>2</td>\n",
       "      <td>53.827423</td>\n",
       "    </tr>\n",
       "    <tr>\n",
       "      <th>3</th>\n",
       "      <td>2021-03-01</td>\n",
       "      <td>3</td>\n",
       "      <td>53.409328</td>\n",
       "    </tr>\n",
       "    <tr>\n",
       "      <th>4</th>\n",
       "      <td>2021-03-01</td>\n",
       "      <td>5</td>\n",
       "      <td>49.443558</td>\n",
       "    </tr>\n",
       "    <tr>\n",
       "      <th>...</th>\n",
       "      <td>...</td>\n",
       "      <td>...</td>\n",
       "      <td>...</td>\n",
       "    </tr>\n",
       "    <tr>\n",
       "      <th>7645</th>\n",
       "      <td>2022-03-28</td>\n",
       "      <td>19</td>\n",
       "      <td>84.400063</td>\n",
       "    </tr>\n",
       "    <tr>\n",
       "      <th>7646</th>\n",
       "      <td>2022-03-28</td>\n",
       "      <td>20</td>\n",
       "      <td>73.812096</td>\n",
       "    </tr>\n",
       "    <tr>\n",
       "      <th>7647</th>\n",
       "      <td>2022-03-28</td>\n",
       "      <td>21</td>\n",
       "      <td>66.809586</td>\n",
       "    </tr>\n",
       "    <tr>\n",
       "      <th>7648</th>\n",
       "      <td>2022-03-28</td>\n",
       "      <td>22</td>\n",
       "      <td>61.010174</td>\n",
       "    </tr>\n",
       "    <tr>\n",
       "      <th>7649</th>\n",
       "      <td>2022-03-28</td>\n",
       "      <td>23</td>\n",
       "      <td>57.065464</td>\n",
       "    </tr>\n",
       "  </tbody>\n",
       "</table>\n",
       "<p>7650 rows × 3 columns</p>\n",
       "</div>"
      ],
      "text/plain": [
       "            date  hour     demand\n",
       "0     2021-03-01     0  62.636486\n",
       "1     2021-03-01     1  53.679691\n",
       "2     2021-03-01     2  53.827423\n",
       "3     2021-03-01     3  53.409328\n",
       "4     2021-03-01     5  49.443558\n",
       "...          ...   ...        ...\n",
       "7645  2022-03-28    19  84.400063\n",
       "7646  2022-03-28    20  73.812096\n",
       "7647  2022-03-28    21  66.809586\n",
       "7648  2022-03-28    22  61.010174\n",
       "7649  2022-03-28    23  57.065464\n",
       "\n",
       "[7650 rows x 3 columns]"
      ]
     },
     "execution_count": 47,
     "metadata": {},
     "output_type": "execute_result"
    }
   ],
   "source": [
    "final_data=pd.read_csv('/Users/alok.g.v/Desktop/analytical vidya/test_6QvDdzb.csv')\n",
    "final_data=pd.concat([final_data,final],axis=1)\n",
    "final_data"
   ]
  },
  {
   "cell_type": "markdown",
   "id": "4d7cb910",
   "metadata": {},
   "source": [
    "# Exporting the Data "
   ]
  },
  {
   "cell_type": "code",
   "execution_count": 48,
   "id": "28599ab1",
   "metadata": {},
   "outputs": [],
   "source": [
    "final_data.to_csv('Submission.csv',index=False)\n"
   ]
  },
  {
   "cell_type": "code",
   "execution_count": null,
   "id": "6fb2975b",
   "metadata": {},
   "outputs": [],
   "source": []
  },
  {
   "cell_type": "code",
   "execution_count": null,
   "id": "2a0e1dae",
   "metadata": {},
   "outputs": [],
   "source": []
  }
 ],
 "metadata": {
  "kernelspec": {
   "display_name": "Python 3",
   "language": "python",
   "name": "python3"
  },
  "language_info": {
   "codemirror_mode": {
    "name": "ipython",
    "version": 3
   },
   "file_extension": ".py",
   "mimetype": "text/x-python",
   "name": "python",
   "nbconvert_exporter": "python",
   "pygments_lexer": "ipython3",
   "version": "3.8.8"
  }
 },
 "nbformat": 4,
 "nbformat_minor": 5
}
